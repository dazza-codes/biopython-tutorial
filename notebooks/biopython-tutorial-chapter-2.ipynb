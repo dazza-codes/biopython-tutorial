{
 "cells": [
  {
   "cell_type": "markdown",
   "id": "fbca6896",
   "metadata": {},
   "source": [
    "http://biopython.org/DIST/docs/tutorial/Tutorial.html"
   ]
  },
  {
   "cell_type": "code",
   "execution_count": null,
   "id": "869d31b5",
   "metadata": {},
   "outputs": [],
   "source": [
    "from Bio.Seq import Seq"
   ]
  },
  {
   "cell_type": "code",
   "execution_count": null,
   "id": "cb7f80ff",
   "metadata": {},
   "outputs": [],
   "source": [
    "help(Seq)"
   ]
  },
  {
   "cell_type": "code",
   "execution_count": null,
   "id": "d111af9c",
   "metadata": {},
   "outputs": [],
   "source": [
    "my_seq = Seq(\"AGTACACTGGT\")\n",
    "my_seq"
   ]
  },
  {
   "cell_type": "code",
   "execution_count": null,
   "id": "5e9af476",
   "metadata": {},
   "outputs": [],
   "source": [
    "my_seq.complement()"
   ]
  },
  {
   "cell_type": "code",
   "execution_count": null,
   "id": "ec2c000d",
   "metadata": {},
   "outputs": [],
   "source": [
    "#help(my_seq.complement)"
   ]
  },
  {
   "cell_type": "code",
   "execution_count": null,
   "id": "75546d52",
   "metadata": {},
   "outputs": [],
   "source": [
    "my_seq.reverse_complement()"
   ]
  },
  {
   "cell_type": "code",
   "execution_count": null,
   "id": "40c9b0ff",
   "metadata": {},
   "outputs": [],
   "source": [
    "#help(my_seq.reverse_complement)"
   ]
  },
  {
   "cell_type": "markdown",
   "id": "c3cacc4d",
   "metadata": {},
   "source": [
    "## Chapter 2.4 - Parsing sequence file formats"
   ]
  },
  {
   "cell_type": "code",
   "execution_count": null,
   "id": "60e9d2f0",
   "metadata": {},
   "outputs": [],
   "source": [
    "from biopython_tutorial.utils import download_file\n",
    "from Bio import SeqIO"
   ]
  },
  {
   "cell_type": "code",
   "execution_count": null,
   "id": "0703cb24",
   "metadata": {},
   "outputs": [],
   "source": [
    "ls_orchid_fasta_url = \"https://raw.githubusercontent.com/biopython/biopython/master/Doc/examples/ls_orchid.fasta\"\n",
    "ls_orchid_fasta = download_file(ls_orchid_fasta_url)\n",
    "assert ls_orchid_fasta.exists()"
   ]
  },
  {
   "cell_type": "code",
   "execution_count": null,
   "id": "9c7caac0",
   "metadata": {},
   "outputs": [],
   "source": [
    "ls_orchid_gbk_url = \"https://raw.githubusercontent.com/biopython/biopython/master/Doc/examples/ls_orchid.gbk\"\n",
    "ls_orchid_gbk = download_file(ls_orchid_gbk_url)\n",
    "assert ls_orchid_gbk.exists()"
   ]
  },
  {
   "cell_type": "code",
   "execution_count": null,
   "id": "38ba504b",
   "metadata": {},
   "outputs": [],
   "source": [
    "for seq_record in SeqIO.parse(\"ls_orchid.fasta\", \"fasta\"):\n",
    "    print(seq_record.id)\n",
    "    print(repr(seq_record.seq))\n",
    "    print(len(seq_record))"
   ]
  },
  {
   "cell_type": "code",
   "execution_count": null,
   "id": "082723eb",
   "metadata": {},
   "outputs": [],
   "source": [
    "for seq_record in SeqIO.parse(\"ls_orchid.gbk\", \"genbank\"):\n",
    "    print(seq_record.id)\n",
    "    print(repr(seq_record.seq))\n",
    "    print(len(seq_record))"
   ]
  },
  {
   "cell_type": "markdown",
   "id": "909a4bfe",
   "metadata": {},
   "source": [
    "## Chapter 3 - Sequence Objects"
   ]
  },
  {
   "cell_type": "code",
   "execution_count": null,
   "id": "f2966c52",
   "metadata": {},
   "outputs": [],
   "source": []
  }
 ],
 "metadata": {
  "kernelspec": {
   "display_name": "biopython-tutorial",
   "language": "python",
   "name": "biopython-tutorial"
  },
  "language_info": {
   "codemirror_mode": {
    "name": "ipython",
    "version": 3
   },
   "file_extension": ".py",
   "mimetype": "text/x-python",
   "name": "python",
   "nbconvert_exporter": "python",
   "pygments_lexer": "ipython3",
   "version": "3.9.13"
  }
 },
 "nbformat": 4,
 "nbformat_minor": 5
}
